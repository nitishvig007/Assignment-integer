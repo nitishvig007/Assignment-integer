{
 "cells": [
  {
   "cell_type": "code",
   "execution_count": 1,
   "metadata": {
    "id": "7JIFn6BP4M0R"
   },
   "outputs": [
    {
     "name": "stdout",
     "output_type": "stream",
     "text": [
      "<class 'bool'> 140719637845840\n"
     ]
    }
   ],
   "source": [
    "#Declare a boolean value and store it in a variable. \n",
    "\n",
    "bol_var =True\n",
    "\n",
    "#Check the type and print the id of the same.\n",
    "\n",
    "print(type(bol_var),id(bol_var))\n"
   ]
  },
  {
   "cell_type": "code",
   "execution_count": 5,
   "metadata": {
    "id": "o9bjjhN64kAP"
   },
   "outputs": [
    {
     "name": "stdout",
     "output_type": "stream",
     "text": [
      "140719638128432 140719638129840\n"
     ]
    }
   ],
   "source": [
    "#Take one boolean value between 0 - 256.\n",
    "#Assign it to two different variables.\n",
    "\n",
    "a =1\n",
    "b=45\n",
    "\n",
    "#Check the id of both the variables. It should come same. Check why?\n",
    "\n",
    "print(id(a),id(b))\n",
    "\n",
    "# all non negative integers are converted to True \n",
    "\n",
    "\n"
   ]
  },
  {
   "cell_type": "code",
   "execution_count": 13,
   "metadata": {
    "id": "yr4ETGSf4l5y"
   },
   "outputs": [
    {
     "name": "stdout",
     "output_type": "stream",
     "text": [
      "1\n",
      "-1\n",
      "0\n",
      "0.0\n",
      "0\n",
      "0.0\n",
      "0\n"
     ]
    }
   ],
   "source": [
    "#Arithmatic Operations on boolean data\n",
    "#Take two different boolean values.\n",
    "#Store them in two different variables.\n",
    "\n",
    "\n",
    "\n",
    "#Do below operations on them:-\n",
    "    #Find sum of both values\n",
    "    \n",
    "a = False \n",
    "b= True\n",
    "\n",
    "print (a + b)\n",
    "\n",
    "    #Find differce between them\n",
    "\n",
    "print (a -b)\n",
    "\n",
    "    #Find the product of both.\n",
    "\n",
    "print(a*b)\n",
    "\n",
    "    #Find value after dividing first value with second value\n",
    "    \n",
    "print(a/b)\n",
    "    \n",
    "    #Find the remainder after dividing first value with second value\n",
    "    \n",
    "print(a%b)\n",
    "    \n",
    "    #Find the quotient after dividing first value with second value\n",
    "print(a /b)   \n",
    "\n",
    "    \n",
    "    #Find the result of first value to the power of second value.\n",
    "print(a **b)\n",
    "\n",
    "\n",
    "\n",
    "\n",
    "\n",
    "\n",
    "\n",
    "\n",
    "\n",
    "\n",
    "    "
   ]
  },
  {
   "cell_type": "code",
   "execution_count": 14,
   "metadata": {
    "id": "xG4mX84E4n2O"
   },
   "outputs": [
    {
     "name": "stdout",
     "output_type": "stream",
     "text": [
      "False\n",
      "True\n",
      "False\n",
      "True\n"
     ]
    }
   ],
   "source": [
    "#Comparison Operators on boolean values\n",
    "#Take two different boolean values.\n",
    "#Store them in two different variables.\n",
    "\n",
    "\n",
    "\n",
    "#Do below operations on them:-\n",
    "    #Compare these two values with below operator:-\n",
    "      \n",
    "    \n",
    "a= False\n",
    "b=True\n",
    "  #Greater than, '>'\n",
    "print(a >b)\n",
    "\n",
    "        #less than, '<'\n",
    "print(a <b)    \n",
    "\n",
    "        #Greater than or equal to, '>='\n",
    "print(a>=b)\n",
    "\n",
    "        #Less than or equal to, '<='    \n",
    "print(a<=b)\n",
    "\n",
    "#Observe their output(return type should be boolean)\n",
    "\n",
    "\n",
    "\n",
    "\n",
    "\n",
    "\n",
    "\n",
    "\n"
   ]
  },
  {
   "cell_type": "code",
   "execution_count": 15,
   "metadata": {
    "id": "TUIo2Z9V4qBJ"
   },
   "outputs": [
    {
     "name": "stdout",
     "output_type": "stream",
     "text": [
      "False\n",
      "True\n"
     ]
    }
   ],
   "source": [
    "#Equality Operator\n",
    "#Take two different boolean values.\n",
    "#Store them in two different variables.\n",
    "\n",
    "a= False\n",
    "b=True\n",
    "\n",
    "#Equuate them using equality operator (==, !=)\n",
    "\n",
    "print(a==b)\n",
    "\n",
    "#Observe the output(return type should be boolean)\n",
    "\n",
    "print(a!=b)\n",
    "\n",
    "\n",
    "\n",
    "\n"
   ]
  },
  {
   "cell_type": "code",
   "execution_count": 16,
   "metadata": {
    "id": "XukEq5E44rxv"
   },
   "outputs": [
    {
     "name": "stdout",
     "output_type": "stream",
     "text": [
      "True\n",
      "False\n",
      "False\n",
      "False\n",
      "True\n",
      "True\n",
      "True\n",
      "False\n",
      "False\n",
      "True\n"
     ]
    }
   ],
   "source": [
    "#Logical operators\n",
    "#Observe the output of below code\n",
    "#Cross check the output manually\n",
    "\n",
    "print(True and True)  #1 and 1 =1      #----------------------------------------->Output is True\n",
    "print(False and True) # 0 and 1 =0      #----------------------------------------->Output is False\n",
    "print(True and False) #1 and 0 =0       #----------------------------------------->Output is False\n",
    "print(False and False) #0 and 0 =0      #----------------------------------------->Output is False\n",
    "\n",
    "print(True or True) #1 or 1 =1         #----------------------------------------->Output is True\n",
    "print(False or True)#0 or 1 =1         #----------------------------------------->Output is True\n",
    "print(True or False)#1 or 0 =1        #----------------------------------------->Output is True\n",
    "print(False or False)# 0 or 0 =0        #----------------------------------------->Output is False\n",
    "\n",
    "print(not True) # not 1 =0             #----------------------------------------->Output is False\n",
    "print(not False) #not 0 =1            #----------------------------------------->Output is True"
   ]
  },
  {
   "cell_type": "code",
   "execution_count": 25,
   "metadata": {
    "id": "02jPgt094vK-"
   },
   "outputs": [
    {
     "name": "stdout",
     "output_type": "stream",
     "text": [
      "True\n",
      "True\n",
      "True\n",
      "-2\n",
      "4\n",
      "0\n"
     ]
    }
   ],
   "source": [
    "#Bitwise Operators\n",
    "#Do below operations on the values provided below:-\n",
    "    #Bitwise and(&) -----------------------------------------> True, True    -------> Output is True\n",
    "print(True & True)\n",
    "\n",
    "\n",
    "    #Bitwise or(|)  -----------------------------------------> True, False   -------> Output is True\n",
    "\n",
    "print(True | False)\n",
    "\n",
    "    #Bitwise(^)     -----------------------------------------> True, False   -------> Output is True\n",
    "\n",
    "print(True ^ False) \n",
    "\n",
    "    #Bitwise negation(~) ------------------------------------> True          -------> Output is -2\n",
    "\n",
    "print(~True)   \n",
    "\n",
    "    #Bitwise left shift  ------------------------------------> True,2        -------> Output is 4\n",
    "\n",
    "print(True <<2)\n",
    "\n",
    "    #Bitwise right shift ------------------------------------> True,2        -------> Output is 0\n",
    "\n",
    "print(True >>2)\n",
    "\n",
    "#Cross check the output manually\n",
    "\n",
    "\n",
    "\n",
    "\n",
    "\n",
    "\n",
    "\n",
    "\n",
    "\n"
   ]
  },
  {
   "cell_type": "code",
   "execution_count": 26,
   "metadata": {
    "id": "cy5i7sWz4v_c"
   },
   "outputs": [
    {
     "name": "stdout",
     "output_type": "stream",
     "text": [
      "True\n",
      "False\n",
      "True\n",
      "False\n"
     ]
    }
   ],
   "source": [
    "#What is the output of expression inside print statement. Cross check before running the program.\n",
    "a = True\n",
    "b = True\n",
    "print(a is b)  # True        #True or False?   #\n",
    "print(a is not b) #False     #True or False?\n",
    "\n",
    "a = False\n",
    "b = False\n",
    "print(a is b)   #True      #True or False?\n",
    "print(a is not b) #False     #True or False?\n"
   ]
  },
  {
   "cell_type": "code",
   "execution_count": 27,
   "metadata": {
    "id": "AOcPQi8544M-"
   },
   "outputs": [
    {
     "name": "stdout",
     "output_type": "stream",
     "text": [
      "True\n",
      "True\n",
      "True\n",
      "True\n",
      "True\n"
     ]
    }
   ],
   "source": [
    "#Membership operation\n",
    "#in, not in are two membership operators and it returns boolean value\n",
    "\n",
    "print(True in [10,10.20,10+20j,'Python', True]) #True\n",
    "print(False in (10,10.20,10+20j,'Python', False))#True\n",
    "print(True in {1,2,3, True}) #True\n",
    "print(True in {True:100, False:200, True:300}) #True\n",
    "print(False in {True:100, False:200, True:300})#True"
   ]
  },
  {
   "cell_type": "code",
   "execution_count": null,
   "metadata": {
    "id": "MPa1Lpco46Ja"
   },
   "outputs": [],
   "source": []
  }
 ],
 "metadata": {
  "colab": {
   "name": "Boolean_Assignement.ipynb",
   "provenance": []
  },
  "kernelspec": {
   "display_name": "Python 3",
   "language": "python",
   "name": "python3"
  },
  "language_info": {
   "codemirror_mode": {
    "name": "ipython",
    "version": 3
   },
   "file_extension": ".py",
   "mimetype": "text/x-python",
   "name": "python",
   "nbconvert_exporter": "python",
   "pygments_lexer": "ipython3",
   "version": "3.8.8"
  }
 },
 "nbformat": 4,
 "nbformat_minor": 1
}
